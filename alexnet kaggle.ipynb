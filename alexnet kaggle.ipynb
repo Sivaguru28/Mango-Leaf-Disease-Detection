{
 "cells": [
  {
   "cell_type": "code",
   "execution_count": 29,
   "metadata": {},
   "outputs": [],
   "source": [
    "import os\n",
    "import random\n",
    "import numpy as np\n",
    "import pandas as pd\n",
    "from tqdm import tqdm\n",
    "import torch\n",
    "import torch.nn as nn\n",
    "import torch.nn.functional as F\n",
    "from torch.utils.data import random_split\n",
    "from torch.utils.data import DataLoader, Dataset, Subset\n",
    "from torch.utils.data import random_split, SubsetRandomSampler\n",
    "from torchvision import datasets, transforms, models \n",
    "from torchvision.datasets import ImageFolder\n",
    "from torchvision.transforms import ToTensor\n",
    "from torchvision.utils import make_grid\n",
    "from pytorch_lightning import LightningModule\n",
    "from pytorch_lightning import Trainer\n",
    "import pytorch_lightning as pl\n",
    "import matplotlib.pyplot as plt\n",
    "%matplotlib inline\n",
    "from sklearn.model_selection import train_test_split\n",
    "from sklearn.metrics import classification_report\n",
    "from PIL import Image"
   ]
  },
  {
   "cell_type": "code",
   "execution_count": 27,
   "metadata": {},
   "outputs": [
    {
     "name": "stdout",
     "output_type": "stream",
     "text": [
      "Requirement already satisfied: torchvision in c:\\users\\rocks\\appdata\\local\\programs\\python\\python312\\lib\\site-packages (0.17.1)\n",
      "Requirement already satisfied: numpy in c:\\users\\rocks\\appdata\\local\\programs\\python\\python312\\lib\\site-packages (from torchvision) (1.26.2)\n",
      "Requirement already satisfied: torch==2.2.1 in c:\\users\\rocks\\appdata\\local\\programs\\python\\python312\\lib\\site-packages (from torchvision) (2.2.1)\n",
      "Requirement already satisfied: pillow!=8.3.*,>=5.3.0 in c:\\users\\rocks\\appdata\\local\\programs\\python\\python312\\lib\\site-packages (from torchvision) (10.1.0)\n",
      "Requirement already satisfied: filelock in c:\\users\\rocks\\appdata\\local\\programs\\python\\python312\\lib\\site-packages (from torch==2.2.1->torchvision) (3.13.1)\n",
      "Requirement already satisfied: typing-extensions>=4.8.0 in c:\\users\\rocks\\appdata\\local\\programs\\python\\python312\\lib\\site-packages (from torch==2.2.1->torchvision) (4.10.0)\n",
      "Requirement already satisfied: sympy in c:\\users\\rocks\\appdata\\local\\programs\\python\\python312\\lib\\site-packages (from torch==2.2.1->torchvision) (1.12)\n",
      "Requirement already satisfied: networkx in c:\\users\\rocks\\appdata\\local\\programs\\python\\python312\\lib\\site-packages (from torch==2.2.1->torchvision) (3.2.1)\n",
      "Requirement already satisfied: jinja2 in c:\\users\\rocks\\appdata\\local\\programs\\python\\python312\\lib\\site-packages (from torch==2.2.1->torchvision) (3.1.2)\n",
      "Requirement already satisfied: fsspec in c:\\users\\rocks\\appdata\\local\\programs\\python\\python312\\lib\\site-packages (from torch==2.2.1->torchvision) (2024.2.0)\n",
      "Requirement already satisfied: MarkupSafe>=2.0 in c:\\users\\rocks\\appdata\\local\\programs\\python\\python312\\lib\\site-packages (from jinja2->torch==2.2.1->torchvision) (2.1.3)\n",
      "Requirement already satisfied: mpmath>=0.19 in c:\\users\\rocks\\appdata\\local\\programs\\python\\python312\\lib\\site-packages (from sympy->torch==2.2.1->torchvision) (1.3.0)\n",
      "Note: you may need to restart the kernel to use updated packages.\n"
     ]
    },
    {
     "name": "stderr",
     "output_type": "stream",
     "text": [
      "\n",
      "[notice] A new release of pip is available: 23.3.2 -> 24.0\n",
      "[notice] To update, run: python.exe -m pip install --upgrade pip\n"
     ]
    }
   ],
   "source": [
    "pip install torchvision"
   ]
  },
  {
   "cell_type": "code",
   "execution_count": 28,
   "metadata": {},
   "outputs": [
    {
     "name": "stdout",
     "output_type": "stream",
     "text": [
      "Collecting pytorch-lightning\n",
      "  Downloading pytorch_lightning-2.2.1-py3-none-any.whl.metadata (21 kB)\n",
      "Requirement already satisfied: numpy>=1.17.2 in c:\\users\\rocks\\appdata\\local\\programs\\python\\python312\\lib\\site-packages (from pytorch-lightning) (1.26.2)\n",
      "Requirement already satisfied: torch>=1.13.0 in c:\\users\\rocks\\appdata\\local\\programs\\python\\python312\\lib\\site-packages (from pytorch-lightning) (2.2.1)\n",
      "Requirement already satisfied: tqdm>=4.57.0 in c:\\users\\rocks\\appdata\\local\\programs\\python\\python312\\lib\\site-packages (from pytorch-lightning) (4.66.2)\n",
      "Collecting PyYAML>=5.4 (from pytorch-lightning)\n",
      "  Downloading PyYAML-6.0.1-cp312-cp312-win_amd64.whl.metadata (2.1 kB)\n",
      "Requirement already satisfied: fsspec>=2022.5.0 in c:\\users\\rocks\\appdata\\local\\programs\\python\\python312\\lib\\site-packages (from fsspec[http]>=2022.5.0->pytorch-lightning) (2024.2.0)\n",
      "Collecting torchmetrics>=0.7.0 (from pytorch-lightning)\n",
      "  Downloading torchmetrics-1.3.1-py3-none-any.whl.metadata (19 kB)\n",
      "Requirement already satisfied: packaging>=20.0 in c:\\users\\rocks\\appdata\\local\\programs\\python\\python312\\lib\\site-packages (from pytorch-lightning) (23.2)\n",
      "Requirement already satisfied: typing-extensions>=4.4.0 in c:\\users\\rocks\\appdata\\local\\programs\\python\\python312\\lib\\site-packages (from pytorch-lightning) (4.10.0)\n",
      "Collecting lightning-utilities>=0.8.0 (from pytorch-lightning)\n",
      "  Downloading lightning_utilities-0.10.1-py3-none-any.whl.metadata (4.8 kB)\n",
      "Collecting aiohttp!=4.0.0a0,!=4.0.0a1 (from fsspec[http]>=2022.5.0->pytorch-lightning)\n",
      "  Downloading aiohttp-3.9.3-cp312-cp312-win_amd64.whl.metadata (7.6 kB)\n",
      "Requirement already satisfied: setuptools in c:\\users\\rocks\\appdata\\local\\programs\\python\\python312\\lib\\site-packages (from lightning-utilities>=0.8.0->pytorch-lightning) (69.1.1)\n",
      "Requirement already satisfied: filelock in c:\\users\\rocks\\appdata\\local\\programs\\python\\python312\\lib\\site-packages (from torch>=1.13.0->pytorch-lightning) (3.13.1)\n",
      "Requirement already satisfied: sympy in c:\\users\\rocks\\appdata\\local\\programs\\python\\python312\\lib\\site-packages (from torch>=1.13.0->pytorch-lightning) (1.12)\n",
      "Requirement already satisfied: networkx in c:\\users\\rocks\\appdata\\local\\programs\\python\\python312\\lib\\site-packages (from torch>=1.13.0->pytorch-lightning) (3.2.1)\n",
      "Requirement already satisfied: jinja2 in c:\\users\\rocks\\appdata\\local\\programs\\python\\python312\\lib\\site-packages (from torch>=1.13.0->pytorch-lightning) (3.1.2)\n",
      "Requirement already satisfied: colorama in c:\\users\\rocks\\appdata\\local\\programs\\python\\python312\\lib\\site-packages (from tqdm>=4.57.0->pytorch-lightning) (0.4.6)\n",
      "Collecting aiosignal>=1.1.2 (from aiohttp!=4.0.0a0,!=4.0.0a1->fsspec[http]>=2022.5.0->pytorch-lightning)\n",
      "  Downloading aiosignal-1.3.1-py3-none-any.whl.metadata (4.0 kB)\n",
      "Collecting attrs>=17.3.0 (from aiohttp!=4.0.0a0,!=4.0.0a1->fsspec[http]>=2022.5.0->pytorch-lightning)\n",
      "  Downloading attrs-23.2.0-py3-none-any.whl.metadata (9.5 kB)\n",
      "Collecting frozenlist>=1.1.1 (from aiohttp!=4.0.0a0,!=4.0.0a1->fsspec[http]>=2022.5.0->pytorch-lightning)\n",
      "  Downloading frozenlist-1.4.1-cp312-cp312-win_amd64.whl.metadata (12 kB)\n",
      "Collecting multidict<7.0,>=4.5 (from aiohttp!=4.0.0a0,!=4.0.0a1->fsspec[http]>=2022.5.0->pytorch-lightning)\n",
      "  Downloading multidict-6.0.5-cp312-cp312-win_amd64.whl.metadata (4.3 kB)\n",
      "Collecting yarl<2.0,>=1.0 (from aiohttp!=4.0.0a0,!=4.0.0a1->fsspec[http]>=2022.5.0->pytorch-lightning)\n",
      "  Downloading yarl-1.9.4-cp312-cp312-win_amd64.whl.metadata (32 kB)\n",
      "Requirement already satisfied: MarkupSafe>=2.0 in c:\\users\\rocks\\appdata\\local\\programs\\python\\python312\\lib\\site-packages (from jinja2->torch>=1.13.0->pytorch-lightning) (2.1.3)\n",
      "Requirement already satisfied: mpmath>=0.19 in c:\\users\\rocks\\appdata\\local\\programs\\python\\python312\\lib\\site-packages (from sympy->torch>=1.13.0->pytorch-lightning) (1.3.0)\n",
      "Requirement already satisfied: idna>=2.0 in c:\\users\\rocks\\appdata\\local\\programs\\python\\python312\\lib\\site-packages (from yarl<2.0,>=1.0->aiohttp!=4.0.0a0,!=4.0.0a1->fsspec[http]>=2022.5.0->pytorch-lightning) (3.6)\n",
      "Downloading pytorch_lightning-2.2.1-py3-none-any.whl (801 kB)\n",
      "   ---------------------------------------- 0.0/801.6 kB ? eta -:--:--\n",
      "   ---------------------------------------- 0.0/801.6 kB ? eta -:--:--\n",
      "    --------------------------------------- 10.2/801.6 kB ? eta -:--:--\n",
      "   ---- ----------------------------------- 92.2/801.6 kB 1.7 MB/s eta 0:00:01\n",
      "   ----------- ---------------------------- 225.3/801.6 kB 2.0 MB/s eta 0:00:01\n",
      "   --------------- ------------------------ 317.4/801.6 kB 2.2 MB/s eta 0:00:01\n",
      "   ----------------- ---------------------- 348.2/801.6 kB 1.8 MB/s eta 0:00:01\n",
      "   ------------------- -------------------- 399.4/801.6 kB 1.6 MB/s eta 0:00:01\n",
      "   ------------------------ --------------- 481.3/801.6 kB 1.7 MB/s eta 0:00:01\n",
      "   ---------------------------- ----------- 563.2/801.6 kB 1.6 MB/s eta 0:00:01\n",
      "   ---------------------------- ----------- 563.2/801.6 kB 1.6 MB/s eta 0:00:01\n",
      "   ---------------------------- ----------- 563.2/801.6 kB 1.6 MB/s eta 0:00:01\n",
      "   ---------------------------- ----------- 563.2/801.6 kB 1.6 MB/s eta 0:00:01\n",
      "   ---------------------------- ----------- 563.2/801.6 kB 1.6 MB/s eta 0:00:01\n",
      "   ---------------------------- ----------- 563.2/801.6 kB 1.6 MB/s eta 0:00:01\n",
      "   --------------------------- ---------- 583.7/801.6 kB 917.5 kB/s eta 0:00:01\n",
      "   ----------------------------------- ---- 706.6/801.6 kB 1.1 MB/s eta 0:00:01\n",
      "   ----------------------------------- ---- 706.6/801.6 kB 1.1 MB/s eta 0:00:01\n",
      "   ----------------------------------- ---- 706.6/801.6 kB 1.1 MB/s eta 0:00:01\n",
      "   ----------------------------------- ---- 706.6/801.6 kB 1.1 MB/s eta 0:00:01\n",
      "   ----------------------------------- ---- 706.6/801.6 kB 1.1 MB/s eta 0:00:01\n",
      "   ----------------------------------- ---- 706.6/801.6 kB 1.1 MB/s eta 0:00:01\n",
      "   -------------------------------------- 801.6/801.6 kB 830.4 kB/s eta 0:00:00\n",
      "Downloading lightning_utilities-0.10.1-py3-none-any.whl (24 kB)\n",
      "Downloading PyYAML-6.0.1-cp312-cp312-win_amd64.whl (138 kB)\n",
      "   ---------------------------------------- 0.0/138.7 kB ? eta -:--:--\n",
      "   ----------------- ---------------------- 61.4/138.7 kB ? eta -:--:--\n",
      "   -------------------------- ------------- 92.2/138.7 kB 1.7 MB/s eta 0:00:01\n",
      "   -------------------------- ------------- 92.2/138.7 kB 1.7 MB/s eta 0:00:01\n",
      "   -------------------------- ------------- 92.2/138.7 kB 1.7 MB/s eta 0:00:01\n",
      "   -------------------------- ------------- 92.2/138.7 kB 1.7 MB/s eta 0:00:01\n",
      "   -------------------------- ------------- 92.2/138.7 kB 1.7 MB/s eta 0:00:01\n",
      "   ------------------------------------ - 133.1/138.7 kB 413.7 kB/s eta 0:00:01\n",
      "   -------------------------------------- 138.7/138.7 kB 391.6 kB/s eta 0:00:00\n",
      "Downloading torchmetrics-1.3.1-py3-none-any.whl (840 kB)\n",
      "   ---------------------------------------- 0.0/840.4 kB ? eta -:--:--\n",
      "   ----- ---------------------------------- 112.6/840.4 kB 6.4 MB/s eta 0:00:01\n",
      "   ----- ---------------------------------- 122.9/840.4 kB 2.4 MB/s eta 0:00:01\n",
      "   ----- ---------------------------------- 122.9/840.4 kB 2.4 MB/s eta 0:00:01\n",
      "   ----- ---------------------------------- 122.9/840.4 kB 2.4 MB/s eta 0:00:01\n",
      "   ----- ---------------------------------- 122.9/840.4 kB 2.4 MB/s eta 0:00:01\n",
      "   ----- ---------------------------------- 122.9/840.4 kB 2.4 MB/s eta 0:00:01\n",
      "   ---------- --------------------------- 225.3/840.4 kB 687.0 kB/s eta 0:00:01\n",
      "   ----------- -------------------------- 245.8/840.4 kB 715.9 kB/s eta 0:00:01\n",
      "   ----------- -------------------------- 245.8/840.4 kB 715.9 kB/s eta 0:00:01\n",
      "   ----------- -------------------------- 245.8/840.4 kB 715.9 kB/s eta 0:00:01\n",
      "   ----------- -------------------------- 245.8/840.4 kB 715.9 kB/s eta 0:00:01\n",
      "   ----------- -------------------------- 245.8/840.4 kB 715.9 kB/s eta 0:00:01\n",
      "   ---------------- --------------------- 358.4/840.4 kB 586.1 kB/s eta 0:00:01\n",
      "   ---------------- --------------------- 368.6/840.4 kB 587.5 kB/s eta 0:00:01\n",
      "   ---------------- --------------------- 368.6/840.4 kB 587.5 kB/s eta 0:00:01\n",
      "   ---------------- --------------------- 368.6/840.4 kB 587.5 kB/s eta 0:00:01\n",
      "   ---------------- --------------------- 368.6/840.4 kB 587.5 kB/s eta 0:00:01\n",
      "   ---------------- --------------------- 368.6/840.4 kB 587.5 kB/s eta 0:00:01\n",
      "   -------------------- ----------------- 450.6/840.4 kB 494.2 kB/s eta 0:00:01\n",
      "   ---------------------- --------------- 491.5/840.4 kB 540.2 kB/s eta 0:00:01\n",
      "   ---------------------- --------------- 491.5/840.4 kB 540.2 kB/s eta 0:00:01\n",
      "   ---------------------- --------------- 491.5/840.4 kB 540.2 kB/s eta 0:00:01\n",
      "   ---------------------- --------------- 491.5/840.4 kB 540.2 kB/s eta 0:00:01\n",
      "   ---------------------- --------------- 491.5/840.4 kB 540.2 kB/s eta 0:00:01\n",
      "   ------------------------- ------------ 573.4/840.4 kB 486.8 kB/s eta 0:00:01\n",
      "   --------------------------- ---------- 614.4/840.4 kB 515.5 kB/s eta 0:00:01\n",
      "   --------------------------- ---------- 614.4/840.4 kB 515.5 kB/s eta 0:00:01\n",
      "   --------------------------- ---------- 614.4/840.4 kB 515.5 kB/s eta 0:00:01\n",
      "   --------------------------- ---------- 614.4/840.4 kB 515.5 kB/s eta 0:00:01\n",
      "   --------------------------- ---------- 614.4/840.4 kB 515.5 kB/s eta 0:00:01\n",
      "   --------------------------- ---------- 614.4/840.4 kB 515.5 kB/s eta 0:00:01\n",
      "   --------------------------------- ---- 747.5/840.4 kB 501.9 kB/s eta 0:00:01\n",
      "   --------------------------------- ---- 747.5/840.4 kB 501.9 kB/s eta 0:00:01\n",
      "   --------------------------------- ---- 747.5/840.4 kB 501.9 kB/s eta 0:00:01\n",
      "   --------------------------------- ---- 747.5/840.4 kB 501.9 kB/s eta 0:00:01\n",
      "   --------------------------------- ---- 747.5/840.4 kB 501.9 kB/s eta 0:00:01\n",
      "   --------------------------------- ---- 747.5/840.4 kB 501.9 kB/s eta 0:00:01\n",
      "   -------------------------------------- 840.4/840.4 kB 470.1 kB/s eta 0:00:00\n",
      "Downloading aiohttp-3.9.3-cp312-cp312-win_amd64.whl (363 kB)\n",
      "   ---------------------------------------- 0.0/363.4 kB ? eta -:--:--\n",
      "   ------ --------------------------------- 61.4/363.4 kB ? eta -:--:--\n",
      "   ---------- ----------------------------- 92.2/363.4 kB 1.7 MB/s eta 0:00:01\n",
      "   ---------- ----------------------------- 92.2/363.4 kB 1.7 MB/s eta 0:00:01\n",
      "   ---------- ----------------------------- 92.2/363.4 kB 1.7 MB/s eta 0:00:01\n",
      "   ---------- ----------------------------- 92.2/363.4 kB 1.7 MB/s eta 0:00:01\n",
      "   ---------- ----------------------------- 92.2/363.4 kB 1.7 MB/s eta 0:00:01\n",
      "   --------------------- ---------------- 204.8/363.4 kB 621.6 kB/s eta 0:00:01\n",
      "   --------------------- ---------------- 204.8/363.4 kB 621.6 kB/s eta 0:00:01\n",
      "   --------------------- ---------------- 204.8/363.4 kB 621.6 kB/s eta 0:00:01\n",
      "   --------------------- ---------------- 204.8/363.4 kB 621.6 kB/s eta 0:00:01\n",
      "   --------------------- ---------------- 204.8/363.4 kB 621.6 kB/s eta 0:00:01\n",
      "   --------------------- ---------------- 204.8/363.4 kB 621.6 kB/s eta 0:00:01\n",
      "   ----------------------------------- -- 337.9/363.4 kB 551.6 kB/s eta 0:00:01\n",
      "   ----------------------------------- -- 337.9/363.4 kB 551.6 kB/s eta 0:00:01\n",
      "   ----------------------------------- -- 337.9/363.4 kB 551.6 kB/s eta 0:00:01\n",
      "   ----------------------------------- -- 337.9/363.4 kB 551.6 kB/s eta 0:00:01\n",
      "   ----------------------------------- -- 337.9/363.4 kB 551.6 kB/s eta 0:00:01\n",
      "   ----------------------------------- -- 337.9/363.4 kB 551.6 kB/s eta 0:00:01\n",
      "   -------------------------------------- 363.4/363.4 kB 403.6 kB/s eta 0:00:00\n",
      "Downloading aiosignal-1.3.1-py3-none-any.whl (7.6 kB)\n",
      "Downloading attrs-23.2.0-py3-none-any.whl (60 kB)\n",
      "   ---------------------------------------- 0.0/60.8 kB ? eta -:--:--\n",
      "   -------------------------- ------------- 41.0/60.8 kB ? eta -:--:--\n",
      "   ---------------------------------------- 60.8/60.8 kB 639.4 kB/s eta 0:00:00\n",
      "Downloading frozenlist-1.4.1-cp312-cp312-win_amd64.whl (50 kB)\n",
      "   ---------------------------------------- 0.0/50.5 kB ? eta -:--:--\n",
      "   ---------------------------------------- 50.5/50.5 kB 2.5 MB/s eta 0:00:00\n",
      "Downloading multidict-6.0.5-cp312-cp312-win_amd64.whl (27 kB)\n",
      "Downloading yarl-1.9.4-cp312-cp312-win_amd64.whl (76 kB)\n",
      "   ---------------------------------------- 0.0/76.4 kB ? eta -:--:--\n",
      "   ---------------------------------------- 76.4/76.4 kB ? eta 0:00:00\n",
      "Installing collected packages: PyYAML, multidict, lightning-utilities, frozenlist, attrs, yarl, aiosignal, torchmetrics, aiohttp, pytorch-lightning\n",
      "Successfully installed PyYAML-6.0.1 aiohttp-3.9.3 aiosignal-1.3.1 attrs-23.2.0 frozenlist-1.4.1 lightning-utilities-0.10.1 multidict-6.0.5 pytorch-lightning-2.2.1 torchmetrics-1.3.1 yarl-1.9.4\n",
      "Note: you may need to restart the kernel to use updated packages.\n"
     ]
    },
    {
     "name": "stderr",
     "output_type": "stream",
     "text": [
      "\n",
      "[notice] A new release of pip is available: 23.3.2 -> 24.0\n",
      "[notice] To update, run: python.exe -m pip install --upgrade pip\n"
     ]
    }
   ],
   "source": [
    "pip install pytorch-lightning\n"
   ]
  },
  {
   "cell_type": "code",
   "execution_count": 2,
   "metadata": {},
   "outputs": [
    {
     "name": "stdout",
     "output_type": "stream",
     "text": [
      "Requirement already satisfied: numpy in c:\\users\\rocks\\appdata\\local\\programs\\python\\python312\\lib\\site-packages (1.26.2)\n",
      "Requirement already satisfied: matplotlib in c:\\users\\rocks\\appdata\\local\\programs\\python\\python312\\lib\\site-packages (3.8.2)\n",
      "Requirement already satisfied: seaborn in c:\\users\\rocks\\appdata\\local\\programs\\python\\python312\\lib\\site-packages (0.13.2)\n",
      "Requirement already satisfied: scikit-learn in c:\\users\\rocks\\appdata\\local\\programs\\python\\python312\\lib\\site-packages (1.3.2)\n",
      "Requirement already satisfied: tensorflow in c:\\users\\rocks\\appdata\\local\\programs\\python\\python312\\lib\\site-packages (2.16.0rc0)\n",
      "Requirement already satisfied: contourpy>=1.0.1 in c:\\users\\rocks\\appdata\\local\\programs\\python\\python312\\lib\\site-packages (from matplotlib) (1.2.0)\n",
      "Requirement already satisfied: cycler>=0.10 in c:\\users\\rocks\\appdata\\local\\programs\\python\\python312\\lib\\site-packages (from matplotlib) (0.12.1)\n",
      "Requirement already satisfied: fonttools>=4.22.0 in c:\\users\\rocks\\appdata\\local\\programs\\python\\python312\\lib\\site-packages (from matplotlib) (4.47.2)\n",
      "Requirement already satisfied: kiwisolver>=1.3.1 in c:\\users\\rocks\\appdata\\local\\programs\\python\\python312\\lib\\site-packages (from matplotlib) (1.4.5)\n",
      "Requirement already satisfied: packaging>=20.0 in c:\\users\\rocks\\appdata\\local\\programs\\python\\python312\\lib\\site-packages (from matplotlib) (23.2)\n",
      "Requirement already satisfied: pillow>=8 in c:\\users\\rocks\\appdata\\local\\programs\\python\\python312\\lib\\site-packages (from matplotlib) (10.1.0)\n",
      "Requirement already satisfied: pyparsing>=2.3.1 in c:\\users\\rocks\\appdata\\local\\programs\\python\\python312\\lib\\site-packages (from matplotlib) (3.1.1)\n",
      "Requirement already satisfied: python-dateutil>=2.7 in c:\\users\\rocks\\appdata\\local\\programs\\python\\python312\\lib\\site-packages (from matplotlib) (2.8.2)\n",
      "Requirement already satisfied: pandas>=1.2 in c:\\users\\rocks\\appdata\\local\\programs\\python\\python312\\lib\\site-packages (from seaborn) (2.1.4)\n",
      "Requirement already satisfied: scipy>=1.5.0 in c:\\users\\rocks\\appdata\\local\\programs\\python\\python312\\lib\\site-packages (from scikit-learn) (1.11.4)\n",
      "Requirement already satisfied: joblib>=1.1.1 in c:\\users\\rocks\\appdata\\local\\programs\\python\\python312\\lib\\site-packages (from scikit-learn) (1.3.2)\n",
      "Requirement already satisfied: threadpoolctl>=2.0.0 in c:\\users\\rocks\\appdata\\local\\programs\\python\\python312\\lib\\site-packages (from scikit-learn) (3.2.0)\n",
      "Requirement already satisfied: tensorflow-intel==2.16.0-rc0 in c:\\users\\rocks\\appdata\\local\\programs\\python\\python312\\lib\\site-packages (from tensorflow) (2.16.0rc0)\n",
      "Requirement already satisfied: absl-py>=1.0.0 in c:\\users\\rocks\\appdata\\local\\programs\\python\\python312\\lib\\site-packages (from tensorflow-intel==2.16.0-rc0->tensorflow) (2.1.0)\n",
      "Requirement already satisfied: astunparse>=1.6.0 in c:\\users\\rocks\\appdata\\local\\programs\\python\\python312\\lib\\site-packages (from tensorflow-intel==2.16.0-rc0->tensorflow) (1.6.3)\n",
      "Requirement already satisfied: flatbuffers>=23.5.26 in c:\\users\\rocks\\appdata\\local\\programs\\python\\python312\\lib\\site-packages (from tensorflow-intel==2.16.0-rc0->tensorflow) (23.5.26)\n",
      "Requirement already satisfied: gast!=0.5.0,!=0.5.1,!=0.5.2,>=0.2.1 in c:\\users\\rocks\\appdata\\local\\programs\\python\\python312\\lib\\site-packages (from tensorflow-intel==2.16.0-rc0->tensorflow) (0.5.4)\n",
      "Requirement already satisfied: google-pasta>=0.1.1 in c:\\users\\rocks\\appdata\\local\\programs\\python\\python312\\lib\\site-packages (from tensorflow-intel==2.16.0-rc0->tensorflow) (0.2.0)\n",
      "Requirement already satisfied: h5py>=3.10.0 in c:\\users\\rocks\\appdata\\local\\programs\\python\\python312\\lib\\site-packages (from tensorflow-intel==2.16.0-rc0->tensorflow) (3.10.0)\n",
      "Requirement already satisfied: libclang>=13.0.0 in c:\\users\\rocks\\appdata\\local\\programs\\python\\python312\\lib\\site-packages (from tensorflow-intel==2.16.0-rc0->tensorflow) (16.0.6)\n",
      "Requirement already satisfied: ml-dtypes~=0.3.1 in c:\\users\\rocks\\appdata\\local\\programs\\python\\python312\\lib\\site-packages (from tensorflow-intel==2.16.0-rc0->tensorflow) (0.3.2)\n",
      "Requirement already satisfied: opt-einsum>=2.3.2 in c:\\users\\rocks\\appdata\\local\\programs\\python\\python312\\lib\\site-packages (from tensorflow-intel==2.16.0-rc0->tensorflow) (3.3.0)\n",
      "Requirement already satisfied: protobuf!=4.21.0,!=4.21.1,!=4.21.2,!=4.21.3,!=4.21.4,!=4.21.5,<5.0.0dev,>=3.20.3 in c:\\users\\rocks\\appdata\\local\\programs\\python\\python312\\lib\\site-packages (from tensorflow-intel==2.16.0-rc0->tensorflow) (4.25.3)\n",
      "Requirement already satisfied: requests<3,>=2.21.0 in c:\\users\\rocks\\appdata\\local\\programs\\python\\python312\\lib\\site-packages (from tensorflow-intel==2.16.0-rc0->tensorflow) (2.31.0)\n",
      "Requirement already satisfied: setuptools in c:\\users\\rocks\\appdata\\local\\programs\\python\\python312\\lib\\site-packages (from tensorflow-intel==2.16.0-rc0->tensorflow) (69.1.1)\n",
      "Requirement already satisfied: six>=1.12.0 in c:\\users\\rocks\\appdata\\local\\programs\\python\\python312\\lib\\site-packages (from tensorflow-intel==2.16.0-rc0->tensorflow) (1.16.0)\n",
      "Requirement already satisfied: termcolor>=1.1.0 in c:\\users\\rocks\\appdata\\local\\programs\\python\\python312\\lib\\site-packages (from tensorflow-intel==2.16.0-rc0->tensorflow) (2.4.0)\n",
      "Requirement already satisfied: typing-extensions>=3.6.6 in c:\\users\\rocks\\appdata\\local\\programs\\python\\python312\\lib\\site-packages (from tensorflow-intel==2.16.0-rc0->tensorflow) (4.10.0)\n",
      "Requirement already satisfied: wrapt>=1.11.0 in c:\\users\\rocks\\appdata\\local\\programs\\python\\python312\\lib\\site-packages (from tensorflow-intel==2.16.0-rc0->tensorflow) (1.16.0)\n",
      "Requirement already satisfied: grpcio<2.0,>=1.24.3 in c:\\users\\rocks\\appdata\\local\\programs\\python\\python312\\lib\\site-packages (from tensorflow-intel==2.16.0-rc0->tensorflow) (1.62.0)\n",
      "Requirement already satisfied: tensorboard<2.17,>=2.16 in c:\\users\\rocks\\appdata\\local\\programs\\python\\python312\\lib\\site-packages (from tensorflow-intel==2.16.0-rc0->tensorflow) (2.16.2)\n",
      "Requirement already satisfied: keras>=3.0.0 in c:\\users\\rocks\\appdata\\local\\programs\\python\\python312\\lib\\site-packages (from tensorflow-intel==2.16.0-rc0->tensorflow) (3.0.5)\n",
      "Requirement already satisfied: pytz>=2020.1 in c:\\users\\rocks\\appdata\\local\\programs\\python\\python312\\lib\\site-packages (from pandas>=1.2->seaborn) (2023.3.post1)\n",
      "Requirement already satisfied: tzdata>=2022.1 in c:\\users\\rocks\\appdata\\local\\programs\\python\\python312\\lib\\site-packages (from pandas>=1.2->seaborn) (2023.4)\n",
      "Requirement already satisfied: wheel<1.0,>=0.23.0 in c:\\users\\rocks\\appdata\\local\\programs\\python\\python312\\lib\\site-packages (from astunparse>=1.6.0->tensorflow-intel==2.16.0-rc0->tensorflow) (0.42.0)\n",
      "Requirement already satisfied: rich in c:\\users\\rocks\\appdata\\local\\programs\\python\\python312\\lib\\site-packages (from keras>=3.0.0->tensorflow-intel==2.16.0-rc0->tensorflow) (13.7.1)\n",
      "Requirement already satisfied: namex in c:\\users\\rocks\\appdata\\local\\programs\\python\\python312\\lib\\site-packages (from keras>=3.0.0->tensorflow-intel==2.16.0-rc0->tensorflow) (0.0.7)\n",
      "Requirement already satisfied: dm-tree in c:\\users\\rocks\\appdata\\local\\programs\\python\\python312\\lib\\site-packages (from keras>=3.0.0->tensorflow-intel==2.16.0-rc0->tensorflow) (0.1.8)\n",
      "Requirement already satisfied: charset-normalizer<4,>=2 in c:\\users\\rocks\\appdata\\local\\programs\\python\\python312\\lib\\site-packages (from requests<3,>=2.21.0->tensorflow-intel==2.16.0-rc0->tensorflow) (3.3.2)\n",
      "Requirement already satisfied: idna<4,>=2.5 in c:\\users\\rocks\\appdata\\local\\programs\\python\\python312\\lib\\site-packages (from requests<3,>=2.21.0->tensorflow-intel==2.16.0-rc0->tensorflow) (3.6)\n",
      "Requirement already satisfied: urllib3<3,>=1.21.1 in c:\\users\\rocks\\appdata\\local\\programs\\python\\python312\\lib\\site-packages (from requests<3,>=2.21.0->tensorflow-intel==2.16.0-rc0->tensorflow) (2.2.1)\n",
      "Requirement already satisfied: certifi>=2017.4.17 in c:\\users\\rocks\\appdata\\local\\programs\\python\\python312\\lib\\site-packages (from requests<3,>=2.21.0->tensorflow-intel==2.16.0-rc0->tensorflow) (2024.2.2)\n",
      "Requirement already satisfied: markdown>=2.6.8 in c:\\users\\rocks\\appdata\\local\\programs\\python\\python312\\lib\\site-packages (from tensorboard<2.17,>=2.16->tensorflow-intel==2.16.0-rc0->tensorflow) (3.5.2)\n",
      "Requirement already satisfied: tensorboard-data-server<0.8.0,>=0.7.0 in c:\\users\\rocks\\appdata\\local\\programs\\python\\python312\\lib\\site-packages (from tensorboard<2.17,>=2.16->tensorflow-intel==2.16.0-rc0->tensorflow) (0.7.2)\n",
      "Requirement already satisfied: werkzeug>=1.0.1 in c:\\users\\rocks\\appdata\\local\\programs\\python\\python312\\lib\\site-packages (from tensorboard<2.17,>=2.16->tensorflow-intel==2.16.0-rc0->tensorflow) (3.0.1)\n",
      "Requirement already satisfied: MarkupSafe>=2.1.1 in c:\\users\\rocks\\appdata\\local\\programs\\python\\python312\\lib\\site-packages (from werkzeug>=1.0.1->tensorboard<2.17,>=2.16->tensorflow-intel==2.16.0-rc0->tensorflow) (2.1.3)\n",
      "Requirement already satisfied: markdown-it-py>=2.2.0 in c:\\users\\rocks\\appdata\\local\\programs\\python\\python312\\lib\\site-packages (from rich->keras>=3.0.0->tensorflow-intel==2.16.0-rc0->tensorflow) (3.0.0)\n",
      "Requirement already satisfied: pygments<3.0.0,>=2.13.0 in c:\\users\\rocks\\appdata\\roaming\\python\\python312\\site-packages (from rich->keras>=3.0.0->tensorflow-intel==2.16.0-rc0->tensorflow) (2.17.2)\n",
      "Requirement already satisfied: mdurl~=0.1 in c:\\users\\rocks\\appdata\\local\\programs\\python\\python312\\lib\\site-packages (from markdown-it-py>=2.2.0->rich->keras>=3.0.0->tensorflow-intel==2.16.0-rc0->tensorflow) (0.1.2)\n",
      "Note: you may need to restart the kernel to use updated packages.\n"
     ]
    },
    {
     "name": "stderr",
     "output_type": "stream",
     "text": [
      "\n",
      "[notice] A new release of pip is available: 23.3.2 -> 24.0\n",
      "[notice] To update, run: python.exe -m pip install --upgrade pip\n"
     ]
    }
   ],
   "source": [
    "pip install numpy matplotlib seaborn scikit-learn tensorflow\n"
   ]
  },
  {
   "cell_type": "code",
   "execution_count": 5,
   "metadata": {},
   "outputs": [
    {
     "name": "stdout",
     "output_type": "stream",
     "text": [
      "Found 3750 images belonging to 8 classes.\n",
      "Found 709 images belonging to 8 classes.\n",
      "Found 710 images belonging to 8 classes.\n"
     ]
    },
    {
     "ename": "NameError",
     "evalue": "name 'create_alexnet' is not defined",
     "output_type": "error",
     "traceback": [
      "\u001b[1;31m---------------------------------------------------------------------------\u001b[0m",
      "\u001b[1;31mNameError\u001b[0m                                 Traceback (most recent call last)",
      "Cell \u001b[1;32mIn[5], line 42\u001b[0m\n\u001b[0;32m     34\u001b[0m test_generator \u001b[38;5;241m=\u001b[39m test_datagen\u001b[38;5;241m.\u001b[39mflow_from_directory(\n\u001b[0;32m     35\u001b[0m     test_dir,\n\u001b[0;32m     36\u001b[0m     target_size\u001b[38;5;241m=\u001b[39m(\u001b[38;5;241m224\u001b[39m, \u001b[38;5;241m224\u001b[39m),\n\u001b[0;32m     37\u001b[0m     batch_size\u001b[38;5;241m=\u001b[39m\u001b[38;5;241m32\u001b[39m,\n\u001b[0;32m     38\u001b[0m     class_mode\u001b[38;5;241m=\u001b[39m\u001b[38;5;124m'\u001b[39m\u001b[38;5;124mcategorical\u001b[39m\u001b[38;5;124m'\u001b[39m\n\u001b[0;32m     39\u001b[0m )\n\u001b[0;32m     41\u001b[0m \u001b[38;5;66;03m# Apply AlexNet\u001b[39;00m\n\u001b[1;32m---> 42\u001b[0m alexnet_model \u001b[38;5;241m=\u001b[39m \u001b[43mcreate_alexnet\u001b[49m(input_shape\u001b[38;5;241m=\u001b[39m(\u001b[38;5;241m224\u001b[39m, \u001b[38;5;241m224\u001b[39m, \u001b[38;5;241m3\u001b[39m), num_classes\u001b[38;5;241m=\u001b[39m\u001b[38;5;241m7\u001b[39m)\n\u001b[0;32m     43\u001b[0m alexnet_model\u001b[38;5;241m.\u001b[39mcompile(optimizer\u001b[38;5;241m=\u001b[39m\u001b[38;5;124m'\u001b[39m\u001b[38;5;124madam\u001b[39m\u001b[38;5;124m'\u001b[39m, loss\u001b[38;5;241m=\u001b[39m\u001b[38;5;124m'\u001b[39m\u001b[38;5;124mcategorical_crossentropy\u001b[39m\u001b[38;5;124m'\u001b[39m, metrics\u001b[38;5;241m=\u001b[39m[\u001b[38;5;124m'\u001b[39m\u001b[38;5;124maccuracy\u001b[39m\u001b[38;5;124m'\u001b[39m])\n\u001b[0;32m     45\u001b[0m \u001b[38;5;66;03m# Run the Epochs\u001b[39;00m\n",
      "\u001b[1;31mNameError\u001b[0m: name 'create_alexnet' is not defined"
     ]
    }
   ],
   "source": []
  },
  {
   "cell_type": "code",
   "execution_count": 6,
   "metadata": {},
   "outputs": [],
   "source": [
    "# Import necessary libraries\n",
    "import numpy as np\n",
    "import matplotlib.pyplot as plt\n",
    "import seaborn as sns\n",
    "from sklearn.metrics import roc_curve, confusion_matrix\n",
    "from tensorflow.keras.preprocessing.image import ImageDataGenerator\n",
    "from tensorflow.keras import layers, models\n",
    "\n",
    "# Define the function to create AlexNet model\n",
    "def create_alexnet(input_shape, num_classes):\n",
    "    model = models.Sequential()\n",
    "    # Add layers to the model according to AlexNet architecture\n",
    "    # Example:\n",
    "    model.add(layers.Conv2D(96, (11, 11), strides=(4, 4), activation='relu', input_shape=input_shape))\n",
    "    model.add(layers.MaxPooling2D(pool_size=(3, 3), strides=(2, 2)))\n",
    "    # Add more layers...\n",
    "    model.add(layers.Dense(num_classes, activation='softmax'))\n",
    "    return model\n"
   ]
  },
  {
   "cell_type": "code",
   "execution_count": 30,
   "metadata": {},
   "outputs": [],
   "source": [
    "transform=transforms.Compose([\n",
    "        transforms.RandomRotation(10),      # rotate +/- 10 degrees\n",
    "        transforms.RandomHorizontalFlip(),  # reverse 50% of images\n",
    "        transforms.Resize(224),             # resize shortest side to 224 pixels\n",
    "        transforms.CenterCrop(224),         # crop longest side to 224 pixels at center\n",
    "        transforms.ToTensor(),\n",
    "        transforms.Normalize([0.485, 0.456, 0.406],\n",
    "                             [0.229, 0.224, 0.225])\n",
    "])"
   ]
  },
  {
   "cell_type": "code",
   "execution_count": 31,
   "metadata": {},
   "outputs": [
    {
     "name": "stdout",
     "output_type": "stream",
     "text": [
      "4000\n",
      "['Anthracnose', 'Bacterial Canker', 'Cutting Weevil', 'Die Back', 'Gall Midge', 'Healthy', 'Powdery Mildew', 'Sooty Mould']\n",
      "8\n"
     ]
    }
   ],
   "source": [
    "dataset0=datasets.ImageFolder(root=\"C:\\\\Users\\\\rocks\\\\Documents\\\\MAIN PROJECT\\\\MANGO LEAF DS\",transform=None)\n",
    "print(len(dataset0))\n",
    "class_names=dataset0.classes\n",
    "print(class_names)\n",
    "print(len(class_names))"
   ]
  },
  {
   "cell_type": "code",
   "execution_count": 35,
   "metadata": {},
   "outputs": [],
   "source": [
    "class DataModule(pl.LightningDataModule):\n",
    "    \n",
    "    def __init__(self, transform=transform, batch_size=32):\n",
    "        super().__init__()\n",
    "        self.root_dir = \"C:\\\\Users\\\\rocks\\\\Documents\\\\MAIN PROJECT\\\\MANGO LEAF DS\"\n",
    "        self.transform = transform\n",
    "        self.batch_size = batch_size\n",
    "\n",
    "    def setup(self, stage=None):\n",
    "        dataset = datasets.ImageFolder(root=self.root_dir, transform=self.transform)\n",
    "        n_data = len(dataset)\n",
    "        n_train = int(0.8 * n_data)\n",
    "        n_test = n_data - n_train\n",
    "\n",
    "        train_dataset, test_dataset = torch.utils.data.random_split(dataset, [n_train, n_test])\n",
    "\n",
    "        self.train_dataset = DataLoader(train_dataset, batch_size=self.batch_size, shuffle=True)\n",
    "        self.test_dataset = DataLoader(test_dataset, batch_size=self.batch_size)\n",
    "\n",
    "    def train_dataloader(self):\n",
    "        return self.train_dataset\n",
    "\n",
    "    def test_dataloader(self):\n",
    "        return self.test_dataset"
   ]
  },
  {
   "cell_type": "code",
   "execution_count": 36,
   "metadata": {},
   "outputs": [],
   "source": [
    "class MyModel(LightningModule):\n",
    "\n",
    "    def __init__(self):\n",
    "        super().__init__()\n",
    "        self.model_ = models.alexnet(pretrained=True)\n",
    "        self.model_.classifier = nn.Sequential( nn.Linear(9216,1024),\n",
    "                                             nn.ReLU(),\n",
    "                                             nn.Dropout(p=0.5),\n",
    "                                             nn.Linear(1024,len(class_names)),\n",
    "                                             nn.LogSoftmax(dim=1))\n",
    "\n",
    "    def forward(self, x):\n",
    "        x = self.model_(x)\n",
    "        return x\n",
    "\n",
    "    def configure_optimizers(self):\n",
    "        optimizer = torch.optim.Adam(self.parameters(), lr=0.001)\n",
    "        return optimizer\n",
    "\n",
    "    def training_step(self, train_batch, batch_idx):\n",
    "        X, y = train_batch\n",
    "        y_hat = self(X)\n",
    "        loss = F.cross_entropy(y_hat, y)\n",
    "        pred = y_hat.argmax(dim=1, keepdim=True)\n",
    "        acc = pred.eq(y.view_as(pred)).sum().item() / y.shape[0]\n",
    "        self.log(\"train_loss\", loss)\n",
    "        self.log(\"train_acc\", acc)\n",
    "        return loss\n",
    "\n",
    "    def validation_step(self, val_batch, batch_idx):\n",
    "        X, y = val_batch\n",
    "        y_hat = self(X)\n",
    "        loss = F.cross_entropy(y_hat, y)\n",
    "        pred = y_hat.argmax(dim=1, keepdim=True)\n",
    "        acc = pred.eq(y.view_as(pred)).sum().item() / y.shape[0]\n",
    "        self.log(\"val_loss\", loss)\n",
    "        self.log(\"val_acc\", acc)\n",
    "\n",
    "    def test_step(self, test_batch, batch_idx):\n",
    "        X, y = test_batch\n",
    "        y_hat = self(X)\n",
    "        loss = F.cross_entropy(y_hat, y)\n",
    "        pred = y_hat.argmax(dim=1, keepdim=True)\n",
    "        acc = pred.eq(y.view_as(pred)).sum().item() / y.shape[0]\n",
    "        self.log(\"test_loss\", loss)\n",
    "        self.log(\"test_acc\", acc)\n"
   ]
  },
  {
   "cell_type": "code",
   "execution_count": 38,
   "metadata": {},
   "outputs": [
    {
     "name": "stderr",
     "output_type": "stream",
     "text": [
      "GPU available: False, used: False\n",
      "TPU available: False, using: 0 TPU cores\n",
      "IPU available: False, using: 0 IPUs\n",
      "HPU available: False, using: 0 HPUs\n",
      "\n",
      "  | Name   | Type    | Params\n",
      "-----------------------------------\n",
      "0 | model_ | AlexNet | 11.9 M\n",
      "-----------------------------------\n",
      "11.9 M    Trainable params\n",
      "0         Non-trainable params\n",
      "11.9 M    Total params\n",
      "47.664    Total estimated model params size (MB)\n"
     ]
    },
    {
     "name": "stdout",
     "output_type": "stream",
     "text": [
      "Epoch 4: 100%|██████████| 100/100 [01:46<00:00,  0.94it/s, v_num=1]"
     ]
    },
    {
     "name": "stderr",
     "output_type": "stream",
     "text": [
      "`Trainer.fit` stopped: `max_epochs=5` reached.\n"
     ]
    },
    {
     "name": "stdout",
     "output_type": "stream",
     "text": [
      "Epoch 4: 100%|██████████| 100/100 [01:47<00:00,  0.93it/s, v_num=1]\n"
     ]
    }
   ],
   "source": [
    "if __name__ == '__main__':\n",
    "    datamodule = DataModule()\n",
    "    datamodule.setup()\n",
    "    model = MyModel()\n",
    "    trainer = pl.Trainer(max_epochs=5)\n",
    "    trainer.fit(model, datamodule)"
   ]
  },
  {
   "cell_type": "code",
   "execution_count": 41,
   "metadata": {},
   "outputs": [
    {
     "name": "stderr",
     "output_type": "stream",
     "text": [
      "c:\\Users\\rocks\\AppData\\Local\\Programs\\Python\\Python312\\Lib\\site-packages\\pytorch_lightning\\trainer\\connectors\\checkpoint_connector.py:145: `.test(ckpt_path=None)` was called without a model. The best model of the previous `fit` call will be used. You can pass `.test(ckpt_path='best')` to use the best model or `.test(ckpt_path='last')` to use the last model. If you pass a value, this warning will be silenced.\n",
      "Restoring states from the checkpoint path at c:\\Users\\rocks\\Documents\\MAIN PROJECT\\lightning_logs\\version_1\\checkpoints\\epoch=4-step=500.ckpt\n",
      "Loaded model weights from the checkpoint at c:\\Users\\rocks\\Documents\\MAIN PROJECT\\lightning_logs\\version_1\\checkpoints\\epoch=4-step=500.ckpt\n",
      "c:\\Users\\rocks\\AppData\\Local\\Programs\\Python\\Python312\\Lib\\site-packages\\pytorch_lightning\\trainer\\connectors\\data_connector.py:441: The 'test_dataloader' does not have many workers which may be a bottleneck. Consider increasing the value of the `num_workers` argument` to `num_workers=11` in the `DataLoader` to improve performance.\n"
     ]
    },
    {
     "name": "stdout",
     "output_type": "stream",
     "text": [
      "Testing DataLoader 0: 100%|██████████| 25/25 [00:11<00:00,  2.09it/s]\n"
     ]
    },
    {
     "data": {
      "text/html": [
       "<pre style=\"white-space:pre;overflow-x:auto;line-height:normal;font-family:Menlo,'DejaVu Sans Mono',consolas,'Courier New',monospace\">┏━━━━━━━━━━━━━━━━━━━━━━━━━━━┳━━━━━━━━━━━━━━━━━━━━━━━━━━━┓\n",
       "┃<span style=\"font-weight: bold\">        Test metric        </span>┃<span style=\"font-weight: bold\">       DataLoader 0        </span>┃\n",
       "┡━━━━━━━━━━━━━━━━━━━━━━━━━━━╇━━━━━━━━━━━━━━━━━━━━━━━━━━━┩\n",
       "│<span style=\"color: #008080; text-decoration-color: #008080\">         test_acc          </span>│<span style=\"color: #800080; text-decoration-color: #800080\">    0.8324999809265137     </span>│\n",
       "│<span style=\"color: #008080; text-decoration-color: #008080\">         test_loss         </span>│<span style=\"color: #800080; text-decoration-color: #800080\">    0.46235591173171997    </span>│\n",
       "└───────────────────────────┴───────────────────────────┘\n",
       "</pre>\n"
      ],
      "text/plain": [
       "┏━━━━━━━━━━━━━━━━━━━━━━━━━━━┳━━━━━━━━━━━━━━━━━━━━━━━━━━━┓\n",
       "┃\u001b[1m \u001b[0m\u001b[1m       Test metric       \u001b[0m\u001b[1m \u001b[0m┃\u001b[1m \u001b[0m\u001b[1m      DataLoader 0       \u001b[0m\u001b[1m \u001b[0m┃\n",
       "┡━━━━━━━━━━━━━━━━━━━━━━━━━━━╇━━━━━━━━━━━━━━━━━━━━━━━━━━━┩\n",
       "│\u001b[36m \u001b[0m\u001b[36m        test_acc         \u001b[0m\u001b[36m \u001b[0m│\u001b[35m \u001b[0m\u001b[35m   0.8324999809265137    \u001b[0m\u001b[35m \u001b[0m│\n",
       "│\u001b[36m \u001b[0m\u001b[36m        test_loss        \u001b[0m\u001b[36m \u001b[0m│\u001b[35m \u001b[0m\u001b[35m   0.46235591173171997   \u001b[0m\u001b[35m \u001b[0m│\n",
       "└───────────────────────────┴───────────────────────────┘\n"
      ]
     },
     "metadata": {},
     "output_type": "display_data"
    },
    {
     "data": {
      "text/plain": [
       "[{'test_loss': 0.46235591173171997, 'test_acc': 0.8324999809265137}]"
      ]
     },
     "execution_count": 41,
     "metadata": {},
     "output_type": "execute_result"
    }
   ],
   "source": [
    "   datamodule.setup(stage='test')\n",
    "   test_loader = datamodule.test_dataloader()\n",
    "   trainer.test(dataloaders=test_loader)"
   ]
  }
 ],
 "metadata": {
  "kernelspec": {
   "display_name": "Python 3",
   "language": "python",
   "name": "python3"
  },
  "language_info": {
   "codemirror_mode": {
    "name": "ipython",
    "version": 3
   },
   "file_extension": ".py",
   "mimetype": "text/x-python",
   "name": "python",
   "nbconvert_exporter": "python",
   "pygments_lexer": "ipython3",
   "version": "3.12.1"
  }
 },
 "nbformat": 4,
 "nbformat_minor": 2
}
